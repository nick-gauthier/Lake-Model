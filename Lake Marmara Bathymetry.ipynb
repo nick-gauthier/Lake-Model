{
 "metadata": {
  "name": "",
  "signature": "sha256:e31d4355ddea3080e51b8aff3bfad9758512b9c550888c7521d892ccec4513ff"
 },
 "nbformat": 3,
 "nbformat_minor": 0,
 "worksheets": [
  {
   "cells": [
    {
     "cell_type": "code",
     "collapsed": false,
     "input": [
      "%pylab inline\n",
      "import sys,os\n",
      "import csv\n",
      "import grass.script as grass\n",
      "import numpy as np\n",
      "from PIL import Image as image\n",
      "from IPython.display import Image, HTML, display"
     ],
     "language": "python",
     "metadata": {},
     "outputs": [
      {
       "output_type": "stream",
       "stream": "stdout",
       "text": [
        "Populating the interactive namespace from numpy and matplotlib\n"
       ]
      }
     ],
     "prompt_number": 1
    },
    {
     "cell_type": "code",
     "collapsed": false,
     "input": [
      "!export GRASS_TRANSPARENT=TRUE\n",
      "!export GRASS_TRUECOLOR=TRUE\n",
      "!export GRASS_PNG_COMPRESSION=9\n",
      "!export GRASS_PNG_AUTO_WRITE=TRUE\n",
      "def img(map):\n",
      "    grass.run_command('r.out.png', input=map, output=map+'.png',overwrite='True')"
     ],
     "language": "python",
     "metadata": {},
     "outputs": [],
     "prompt_number": 2
    },
    {
     "cell_type": "code",
     "collapsed": false,
     "input": [
      "!g.region n=4290090 s=4261950 w=565980 e=607110 nsres=30 ewres=30"
     ],
     "language": "python",
     "metadata": {},
     "outputs": [],
     "prompt_number": 3
    },
    {
     "cell_type": "markdown",
     "metadata": {},
     "source": [
      "This notebook represents the series of computations necessary to take the map of lake bathymetry and a dem and make a fused bathymetricly correct dem, and then use this dem to establish depth-area-volume relationships for the dammed and undammed lake."
     ]
    },
    {
     "cell_type": "markdown",
     "metadata": {},
     "source": [
      "The first issue is that the bathymetric map is in depths, ie meters below the water level. But we don't know exactly what the water level was when they made those measurements. Looking at the lake level data from DSI, the average lake level during June 2006, when they made the soundings, the lake was at 78.19 masl. Use r.mapcalc to convert depths into elevations."
     ]
    },
    {
     "cell_type": "code",
     "collapsed": false,
     "input": [
      "!r.mapcalc \"bath_elev = lake_bath + 78.19\" --o --q"
     ],
     "language": "python",
     "metadata": {},
     "outputs": [],
     "prompt_number": 4
    },
    {
     "cell_type": "markdown",
     "metadata": {},
     "source": [
      "The next question is how to patch the lake elevation with the DEM. We can either just keep the bath elevation and fill in the nulls around it with the dem, or we can clip out the lake surface from the DEM and fill that with the bath elevation. I think the latter option is cleaner."
     ]
    },
    {
     "cell_type": "code",
     "collapsed": false,
     "input": [
      "!r.clump input=eu_30m output=eu_clump --o --q\n",
      "!r.mapcalc \"eu_lake = if(eu_clump==197990, 1, null())\" --o --q\n",
      "!r.grow input=eu_lake output=eu_lake --o --q\n",
      "# this results in a couple null cells, fill them\n",
      "!r.mapcalc \"eu_bath = if(isnull(eu_lake),eu_30m,bath_elev)\" --o --q"
     ],
     "language": "python",
     "metadata": {},
     "outputs": [],
     "prompt_number": 95
    },
    {
     "cell_type": "markdown",
     "metadata": {},
     "source": [
      "So now we remove the dam, using a raster called Dam that has been converted from a hand-drawn vector covering the dam area. Clip out the area under this raster and fill that hole and the wholes from patching in the bathymetry"
     ]
    },
    {
     "cell_type": "code",
     "collapsed": false,
     "input": [
      "!r.mapcalc \"eu_bath = if(isnull(dam) & isnull(bt_canal),eu_bath,null())\" --o --q\n",
      "!r.fillnulls input=eu_bath output=eu_bath method=rst tension=200. smooth=.1 edge=3 --o --q"
     ],
     "language": "python",
     "metadata": {},
     "outputs": [
      {
       "output_type": "stream",
       "stream": "stdout",
       "text": [
        "WARNING: The computation will last too long - lower npmin is suggested\r\n",
        "\u0007WARNING: There are less than 1200 points for interpolation. No segmentation\r\n",
        "         is necessary, to run the program faster set segmax=1200 (see\r\n",
        "         manual)\r\n",
        "\u0007"
       ]
      },
      {
       "output_type": "stream",
       "stream": "stdout",
       "text": [
        "WARNING: 52 points given for interpolation (after thinning) is less than\r\n",
        "         given NPMIN=53\r\n",
        "\u0007WARNING: There are less than 106 points for interpolation. No segmentation\r\n",
        "         is necessary, to run the program faster set segmax=106 (see\r\n",
        "         manual)\r\n",
        "\u0007"
       ]
      },
      {
       "output_type": "stream",
       "stream": "stdout",
       "text": [
        "WARNING: 28 points given for interpolation (after thinning) is less than\r\n",
        "         given NPMIN=29\r\n",
        "\u0007WARNING: There are less than 58 points for interpolation. No segmentation\r\n",
        "         is necessary, to run the program faster set segmax=58 (see manual)\r\n",
        "\u0007"
       ]
      },
      {
       "output_type": "stream",
       "stream": "stdout",
       "text": [
        "WARNING: 28 points given for interpolation (after thinning) is less than\r\n",
        "         given NPMIN=29\r\n",
        "\u0007WARNING: There are less than 58 points for interpolation. No segmentation\r\n",
        "         is necessary, to run the program faster set segmax=58 (see manual)\r\n",
        "\u0007"
       ]
      },
      {
       "output_type": "stream",
       "stream": "stdout",
       "text": [
        "WARNING: Taking too long to find points for interpolation - please change\r\n",
        "         the region to area where your points are. Continuing\r\n",
        "         calculations...\r\n",
        "\u0007WARNING: Taking too long to find points for interpolation - please change\r\n",
        "         the region to area where your points are. Continuing\r\n",
        "         calculations...\r\n",
        "\u0007WARNING: Taking too long to find points for interpolation - please change\r\n",
        "         the region to area where your points are. Continuing\r\n",
        "         calculations...\r\n",
        "\u0007WARNING: Taking too long to find points for interpolation - please change\r\n",
        "         the region to area where your points are. Continuing\r\n",
        "         calculations...\r\n",
        "\u0007WARNING: Taking too long to find points for interpolation - please change\r\n",
        "         the region to area where your points are. Continuing\r\n",
        "         calculations...\r\n",
        "\u0007WARNING: Taking too long to find points for interpolation - please change\r\n",
        "         the region to area where your points are. Continuing\r\n",
        "         calculations...\r\n",
        "\u0007WARNING: Taking too long to find points for interpolation - please change\r\n",
        "         the region to area where your points are. Continuing\r\n",
        "         calculations...\r\n",
        "\u0007WARNING: Taking too long to find points for interpolation - please change\r\n",
        "         the region to area where your points are. Continuing\r\n",
        "         calculations...\r\n",
        "\u0007WARNING: Taking too long to find points for interpolation - please change\r\n",
        "         the region to area where your points are. Continuing\r\n",
        "         calculations...\r\n",
        "\u0007WARNING: Taking too long to find points for interpolation - please change\r\n",
        "         the region to area where your points are. Continuing\r\n",
        "         calculations...\r\n",
        "\u0007WARNING: Taking too long to find points for interpolation - please change\r\n",
        "         the region to area where your points are. Continuing\r\n",
        "         calculations...\r\n",
        "\u0007WARNING: Taking too long to find points for interpolation - please change\r\n",
        "         the region to area where your points are. Continuing\r\n",
        "         calculations...\r\n",
        "\u0007WARNING: Taking too long to find points for interpolation - please change\r\n",
        "         the region to area where your points are. Continuing\r\n",
        "         calculations...\r\n",
        "\u0007WARNING: Taking too long to find points for interpolation - please change\r\n",
        "         the region to area where your points are. Continuing\r\n",
        "         calculations...\r\n",
        "\u0007WARNING: Taking too long to find points for interpolation - please change\r\n",
        "         the region to area where your points are. Continuing\r\n",
        "         calculations...\r\n",
        "\u0007WARNING: Taking too long to find points for interpolation - please change\r\n",
        "         the region to area where your points are. Continuing\r\n",
        "         calculations...\r\n",
        "\u0007WARNING: Taking too long to find points for interpolation - please change\r\n",
        "         the region to area where your points are. Continuing\r\n",
        "         calculations...\r\n",
        "\u0007WARNING: Taking too long to find points for interpolation - please change\r\n",
        "         the region to area where your points are. Continuing\r\n",
        "         calculations...\r\n",
        "\u0007WARNING: Taking too long to find points for interpolation - please change\r\n",
        "         the region to area where your points are. Continuing\r\n",
        "         calculations...\r\n",
        "\u0007WARNING: Taking too long to find points for interpolation - please change\r\n",
        "         the region to area where your points are. Continuing\r\n",
        "         calculations...\r\n",
        "\u0007WARNING: Taking too long to find points for interpolation - please change\r\n",
        "         the region to area where your points are. Continuing\r\n",
        "         calculations...\r\n",
        "\u0007WARNING: Taking too long to find points for interpolation - please change\r\n",
        "         the region to area where your points are. Continuing\r\n",
        "         calculations...\r\n",
        "\u0007WARNING: Taking too long to find points for interpolation - please change\r\n",
        "         the region to area where your points are. Continuing\r\n",
        "         calculations...\r\n",
        "\u0007WARNING: Taking too long to find points for interpolation - please change\r\n",
        "         the region to area where your points are. Continuing\r\n",
        "         calculations...\r\n",
        "\u0007WARNING: Taking too long to find points for interpolation - please change\r\n",
        "         the region to area where your points are. Continuing\r\n",
        "         calculations...\r\n",
        "\u0007WARNING: Taking too long to find points for interpolation - please change\r\n",
        "         the region to area where your points are. Continuing\r\n",
        "         calculations...\r\n",
        "\u0007WARNING: Taking too long to find points for interpolation - please change\r\n",
        "         the region to area where your points are. Continuing\r\n",
        "         calculations...\r\n",
        "\u0007WARNING: Taking too long to find points for interpolation - please change\r\n",
        "         the region to area where your points are. Continuing\r\n",
        "         "
       ]
      },
      {
       "output_type": "stream",
       "stream": "stdout",
       "text": [
        "calculations...\r\n",
        "\u0007WARNING: Taking too long to find points for interpolation - please change\r\n",
        "         the region to area where your points are. Continuing\r\n",
        "         calculations...\r\n",
        "\u0007WARNING: Taking too long to find points for interpolation - please change\r\n",
        "         the region to area where your points are. Continuing\r\n",
        "         calculations...\r\n",
        "\u0007WARNING: Taking too long to find points for interpolation - please change\r\n",
        "         the region to area where your points are. Continuing\r\n",
        "         calculations...\r\n",
        "\u0007WARNING: Taking too long to find points for interpolation - please change\r\n",
        "         the region to area where your points are. Continuing\r\n",
        "         calculations...\r\n",
        "\u0007WARNING: Taking too long to find points for interpolation - please change\r\n",
        "         the region to area where your points are. Continuing\r\n",
        "         calculations...\r\n",
        "\u0007WARNING: Taking too long to find points for interpolation - please change\r\n",
        "         the region to area where your points are. Continuing\r\n",
        "         calculations...\r\n",
        "\u0007WARNING: Taking too long to find points for interpolation - please change\r\n",
        "         the region to area where your points are. Continuing\r\n",
        "         calculations...\r\n",
        "\u0007WARNING: Taking too long to find points for interpolation - please change\r\n",
        "         the region to area where your points are. Continuing\r\n",
        "         calculations...\r\n",
        "\u0007WARNING: Taking too long to find points for interpolation - please change\r\n",
        "         the region to area where your points are. Continuing\r\n",
        "         calculations...\r\n",
        "\u0007WARNING: Taking too long to find points for interpolation - please change\r\n",
        "         the region to area where your points are. Continuing\r\n",
        "         calculations...\r\n",
        "\u0007WARNING: Taking too long to find points for interpolation - please change\r\n",
        "         the region to area where your points are. Continuing\r\n",
        "         calculations...\r\n",
        "\u0007WARNING: Taking too long to find points for interpolation - please change\r\n",
        "         the region to area where your points are. Continuing\r\n",
        "         calculations...\r\n",
        "\u0007WARNING: Taking too long to find points for interpolation - please change\r\n",
        "         the region to area where your points are. Continuing\r\n",
        "         calculations...\r\n",
        "\u0007WARNING: Taking too long to find points for interpolation - please change\r\n",
        "         the region to area where your points are. Continuing\r\n",
        "         calculations...\r\n",
        "\u0007WARNING: Taking too long to find points for interpolation - please change\r\n",
        "         the region to area where your points are. Continuing\r\n",
        "         calculations...\r\n",
        "\u0007WARNING: Taking too long to find points for interpolation - please change\r\n",
        "         the region to area where your points are. Continuing\r\n",
        "         calculations...\r\n",
        "\u0007WARNING: Taking too long to find points for interpolation - please change\r\n",
        "         the region to area where your points are. Continuing\r\n",
        "         calculations...\r\n",
        "\u0007WARNING: Taking too long to find points for interpolation - please change\r\n",
        "         the region to area where your points are. Continuing\r\n",
        "         calculations...\r\n",
        "\u0007WARNING: Taking too long to find points for interpolation - please change\r\n",
        "         the region to area where your points are. Continuing\r\n",
        "         calculations...\r\n",
        "\u0007WARNING: Taking too long to find points for interpolation - please change\r\n",
        "         the region to area where your points are. Continuing\r\n",
        "         calculations...\r\n",
        "\u0007WARNING: Taking too long to find points for interpolation - please change\r\n",
        "         the region to area where your points are. Continuing\r\n",
        "         calculations...\r\n",
        "\u0007WARNING: Taking too long to find points for interpolation - please change\r\n",
        "         the region to area where your points are. Continuing\r\n",
        "         calculations...\r\n",
        "\u0007WARNING: Taking too long to find points for interpolation - please change\r\n",
        "         the region to area where your points are. Continuing\r\n",
        "         calculations...\r\n",
        "\u0007"
       ]
      },
      {
       "output_type": "stream",
       "stream": "stdout",
       "text": [
        "WARNING: Taking too long to find points for interpolation - please change\r\n",
        "         the region to area where your points are. Continuing\r\n",
        "         calculations...\r\n",
        "\u0007WARNING: Taking too long to find points for interpolation - please change\r\n",
        "         the region to area where your points are. Continuing\r\n",
        "         calculations...\r\n",
        "\u0007WARNING: Taking too long to find points for interpolation - please change\r\n",
        "         the region to area where your points are. Continuing\r\n",
        "         calculations...\r\n",
        "\u0007WARNING: Taking too long to find points for interpolation - please change\r\n",
        "         the region to area where your points are. Continuing\r\n",
        "         calculations...\r\n",
        "\u0007WARNING: Taking too long to find points for interpolation - please change\r\n",
        "         the region to area where your points are. Continuing\r\n",
        "         calculations...\r\n",
        "\u0007WARNING: Taking too long to find points for interpolation - please change\r\n",
        "         the region to area where your points are. Continuing\r\n",
        "         calculations...\r\n",
        "\u0007WARNING: Taking too long to find points for interpolation - please change\r\n",
        "         the region to area where your points are. Continuing\r\n",
        "         calculations...\r\n",
        "\u0007WARNING: Taking too long to find points for interpolation - please change\r\n",
        "         the region to area where your points are. Continuing\r\n",
        "         calculations...\r\n",
        "\u0007WARNING: Taking too long to find points for interpolation - please change\r\n",
        "         the region to area where your points are. Continuing\r\n",
        "         calculations...\r\n",
        "\u0007WARNING: Taking too long to find points for interpolation - please change\r\n",
        "         the region to area where your points are. Continuing\r\n",
        "         calculations...\r\n",
        "\u0007WARNING: Taking too long to find points for interpolation - please change\r\n",
        "         the region to area where your points are. Continuing\r\n",
        "         calculations...\r\n",
        "\u0007WARNING: Taking too long to find points for interpolation - please change\r\n",
        "         the region to area where your points are. Continuing\r\n",
        "         calculations...\r\n",
        "\u0007WARNING: Taking too long to find points for interpolation - please change\r\n",
        "         the region to area where your points are. Continuing\r\n",
        "         calculations...\r\n",
        "\u0007WARNING: Taking too long to find points for interpolation - please change\r\n",
        "         the region to area where your points are. Continuing\r\n",
        "         calculations...\r\n",
        "\u0007WARNING: Taking too long to find points for interpolation - please change\r\n",
        "         the region to area where your points are. Continuing\r\n",
        "         calculations...\r\n",
        "\u0007WARNING: Taking too long to find points for interpolation - please change\r\n",
        "         the region to area where your points are. Continuing\r\n",
        "         calculations...\r\n",
        "\u0007WARNING: Taking too long to find points for interpolation - please change\r\n",
        "         the region to area where your points are. Continuing\r\n",
        "         calculations...\r\n",
        "\u0007WARNING: Taking too long to find points for interpolation - please change\r\n",
        "         the region to area where your points are. Continuing\r\n",
        "         calculations...\r\n",
        "\u0007WARNING: Taking too long to find points for interpolation - please change\r\n",
        "         the region to area where your points are. Continuing\r\n",
        "         calculations...\r\n",
        "\u0007WARNING: Taking too long to find points for interpolation - please change\r\n",
        "         the region to area where your points are. Continuing\r\n",
        "         calculations...\r\n",
        "\u0007WARNING: Taking too long to find points for interpolation - please change\r\n",
        "         the region to area where your points are. Continuing\r\n",
        "         calculations...\r\n",
        "\u0007WARNING: Taking too long to find points for interpolation - please change\r\n",
        "         the region to area where your points are. Continuing\r\n",
        "         calculations...\r\n",
        "\u0007"
       ]
      },
      {
       "output_type": "stream",
       "stream": "stdout",
       "text": [
        "WARNING: Taking too long to find points for interpolation - please change\r\n",
        "         the region to area where your points are. Continuing\r\n",
        "         calculations...\r\n",
        "\u0007WARNING: Taking too long to find points for interpolation - please change\r\n",
        "         the region to area where your points are. Continuing\r\n",
        "         calculations...\r\n",
        "\u0007WARNING: Taking too long to find points for interpolation - please change\r\n",
        "         the region to area where your points are. Continuing\r\n",
        "         calculations...\r\n",
        "\u0007WARNING: Taking too long to find points for interpolation - please change\r\n",
        "         the region to area where your points are. Continuing\r\n",
        "         calculations...\r\n",
        "\u0007WARNING: Taking too long to find points for interpolation - please change\r\n",
        "         the region to area where your points are. Continuing\r\n",
        "         calculations...\r\n",
        "\u0007WARNING: Taking too long to find points for interpolation - please change\r\n",
        "         the region to area where your points are. Continuing\r\n",
        "         calculations...\r\n",
        "\u0007WARNING: Taking too long to find points for interpolation - please change\r\n",
        "         the region to area where your points are. Continuing\r\n",
        "         calculations...\r\n",
        "\u0007WARNING: Taking too long to find points for interpolation - please change\r\n",
        "         the region to area where your points are. Continuing\r\n",
        "         calculations...\r\n",
        "\u0007WARNING: Taking too long to find points for interpolation - please change\r\n",
        "         the region to area where your points are. Continuing\r\n",
        "         calculations...\r\n",
        "\u0007WARNING: Taking too long to find points for interpolation - please change\r\n",
        "         the region to area where your points are. Continuing\r\n",
        "         calculations...\r\n",
        "\u0007WARNING: Taking too long to find points for interpolation - please change\r\n",
        "         the region to area where your points are. Continuing\r\n",
        "         calculations...\r\n",
        "\u0007WARNING: Taking too long to find points for interpolation - please change\r\n",
        "         the region to area where your points are. Continuing\r\n",
        "         calculations...\r\n",
        "\u0007WARNING: Taking too long to find points for interpolation - please change\r\n",
        "         the region to area where your points are. Continuing\r\n",
        "         calculations...\r\n",
        "\u0007"
       ]
      },
      {
       "output_type": "stream",
       "stream": "stdout",
       "text": [
        "WARNING: Taking too long to find points for interpolation - please change\r\n",
        "         the region to area where your points are. Continuing\r\n",
        "         calculations...\r\n",
        "\u0007WARNING: Taking too long to find points for interpolation - please change\r\n",
        "         the region to area where your points are. Continuing\r\n",
        "         calculations...\r\n",
        "\u0007WARNING: Taking too long to find points for interpolation - please change\r\n",
        "         the region to area where your points are. Continuing\r\n",
        "         calculations...\r\n",
        "\u0007WARNING: Taking too long to find points for interpolation - please change\r\n",
        "         the region to area where your points are. Continuing\r\n",
        "         calculations...\r\n",
        "\u0007"
       ]
      }
     ],
     "prompt_number": 96
    },
    {
     "cell_type": "markdown",
     "metadata": {},
     "source": [
      "Time for lake flooding. Having already placed points at the lowest locations in each basin, turn them into vectors and use as the seed map for the lake fill algorithm."
     ]
    },
    {
     "cell_type": "code",
     "collapsed": false,
     "input": [
      "!v.to.rast input=lake_seed_pts output=lake_seed use=val --o --q"
     ],
     "language": "python",
     "metadata": {},
     "outputs": [
      {
       "output_type": "stream",
       "stream": "stdout",
       "text": [
        "WARNING: No areas selected from vector map <lake_seed_pts>\r\n",
        "\u0007"
       ]
      }
     ],
     "prompt_number": 5
    },
    {
     "cell_type": "code",
     "collapsed": false,
     "input": [
      "levels = np.arange(72.05,76.85,.05)\n",
      "area = list()\n",
      "depth = list()\n",
      "volume = list()\n",
      "for i in levels:\n",
      "    !r.lake elevation=eu_bath lake=lake_flood water_level=$i seed=lake_seed --o --q\n",
      "    out = grass.read_command(\"r.univar\",map=\"lake_flood\").rstrip().split('\\n')\n",
      "    dat = list((float(out[5][3:]),float(out[7][9:]),float(out[14][5:])))\n",
      "    area.append(dat[0] * 900.0)\n",
      "    depth.append(dat[1])\n",
      "    volume.append(dat[2]*900.0)"
     ],
     "language": "python",
     "metadata": {},
     "outputs": [
      {
       "output_type": "stream",
       "stream": "stdout",
       "text": [
        "WARNING: Volume is correct only if lake depth (terrain raster map) is in\r\n",
        "         meters\r\n",
        "\u0007"
       ]
      },
      {
       "output_type": "stream",
       "stream": "stdout",
       "text": [
        "WARNING: Volume is correct only if lake depth (terrain raster map) is in\r\n",
        "         meters\r\n",
        "\u0007"
       ]
      },
      {
       "output_type": "stream",
       "stream": "stdout",
       "text": [
        "WARNING: Volume is correct only if lake depth (terrain raster map) is in\r\n",
        "         meters\r\n",
        "\u0007"
       ]
      },
      {
       "output_type": "stream",
       "stream": "stdout",
       "text": [
        "WARNING: Volume is correct only if lake depth (terrain raster map) is in\r\n",
        "         meters\r\n",
        "\u0007"
       ]
      },
      {
       "output_type": "stream",
       "stream": "stdout",
       "text": [
        "WARNING: Volume is correct only if lake depth (terrain raster map) is in\r\n",
        "         meters\r\n",
        "\u0007"
       ]
      },
      {
       "output_type": "stream",
       "stream": "stdout",
       "text": [
        "WARNING: Volume is correct only if lake depth (terrain raster map) is in\r\n",
        "         meters\r\n",
        "\u0007"
       ]
      },
      {
       "output_type": "stream",
       "stream": "stdout",
       "text": [
        "WARNING: Volume is correct only if lake depth (terrain raster map) is in\r\n",
        "         meters\r\n",
        "\u0007"
       ]
      },
      {
       "output_type": "stream",
       "stream": "stdout",
       "text": [
        "WARNING: Volume is correct only if lake depth (terrain raster map) is in\r\n",
        "         meters\r\n",
        "\u0007"
       ]
      },
      {
       "output_type": "stream",
       "stream": "stdout",
       "text": [
        "WARNING: Volume is correct only if lake depth (terrain raster map) is in\r\n",
        "         meters\r\n",
        "\u0007"
       ]
      },
      {
       "output_type": "stream",
       "stream": "stdout",
       "text": [
        "WARNING: Volume is correct only if lake depth (terrain raster map) is in\r\n",
        "         meters\r\n",
        "\u0007"
       ]
      },
      {
       "output_type": "stream",
       "stream": "stdout",
       "text": [
        "WARNING: Volume is correct only if lake depth (terrain raster map) is in\r\n",
        "         meters\r\n",
        "\u0007"
       ]
      },
      {
       "output_type": "stream",
       "stream": "stdout",
       "text": [
        "WARNING: Volume is correct only if lake depth (terrain raster map) is in\r\n",
        "         meters\r\n",
        "\u0007"
       ]
      },
      {
       "output_type": "stream",
       "stream": "stdout",
       "text": [
        "WARNING: Volume is correct only if lake depth (terrain raster map) is in\r\n",
        "         meters\r\n",
        "\u0007"
       ]
      },
      {
       "output_type": "stream",
       "stream": "stdout",
       "text": [
        "WARNING: Volume is correct only if lake depth (terrain raster map) is in\r\n",
        "         meters\r\n",
        "\u0007"
       ]
      },
      {
       "output_type": "stream",
       "stream": "stdout",
       "text": [
        "WARNING: Volume is correct only if lake depth (terrain raster map) is in\r\n",
        "         meters\r\n",
        "\u0007"
       ]
      },
      {
       "output_type": "stream",
       "stream": "stdout",
       "text": [
        "WARNING: Volume is correct only if lake depth (terrain raster map) is in\r\n",
        "         meters\r\n",
        "\u0007"
       ]
      },
      {
       "output_type": "stream",
       "stream": "stdout",
       "text": [
        "WARNING: Volume is correct only if lake depth (terrain raster map) is in\r\n",
        "         meters\r\n",
        "\u0007"
       ]
      },
      {
       "output_type": "stream",
       "stream": "stdout",
       "text": [
        "WARNING: Volume is correct only if lake depth (terrain raster map) is in\r\n",
        "         meters\r\n",
        "\u0007"
       ]
      },
      {
       "output_type": "stream",
       "stream": "stdout",
       "text": [
        "WARNING: Volume is correct only if lake depth (terrain raster map) is in\r\n",
        "         meters\r\n",
        "\u0007"
       ]
      },
      {
       "output_type": "stream",
       "stream": "stdout",
       "text": [
        "WARNING: Volume is correct only if lake depth (terrain raster map) is in\r\n",
        "         meters\r\n",
        "\u0007"
       ]
      },
      {
       "output_type": "stream",
       "stream": "stdout",
       "text": [
        "WARNING: Volume is correct only if lake depth (terrain raster map) is in\r\n",
        "         meters\r\n",
        "\u0007"
       ]
      },
      {
       "output_type": "stream",
       "stream": "stdout",
       "text": [
        "WARNING: Volume is correct only if lake depth (terrain raster map) is in\r\n",
        "         meters\r\n",
        "\u0007"
       ]
      },
      {
       "output_type": "stream",
       "stream": "stdout",
       "text": [
        "WARNING: Volume is correct only if lake depth (terrain raster map) is in\r\n",
        "         meters\r\n",
        "\u0007"
       ]
      },
      {
       "output_type": "stream",
       "stream": "stdout",
       "text": [
        "WARNING: Volume is correct only if lake depth (terrain raster map) is in\r\n",
        "         meters\r\n",
        "\u0007"
       ]
      },
      {
       "output_type": "stream",
       "stream": "stdout",
       "text": [
        "WARNING: Volume is correct only if lake depth (terrain raster map) is in\r\n",
        "         meters\r\n",
        "\u0007"
       ]
      },
      {
       "output_type": "stream",
       "stream": "stdout",
       "text": [
        "WARNING: Volume is correct only if lake depth (terrain raster map) is in\r\n",
        "         meters\r\n",
        "\u0007"
       ]
      },
      {
       "output_type": "stream",
       "stream": "stdout",
       "text": [
        "WARNING: Volume is correct only if lake depth (terrain raster map) is in\r\n",
        "         meters\r\n",
        "\u0007"
       ]
      },
      {
       "output_type": "stream",
       "stream": "stdout",
       "text": [
        "WARNING: Volume is correct only if lake depth (terrain raster map) is in\r\n",
        "         meters\r\n",
        "\u0007"
       ]
      },
      {
       "output_type": "stream",
       "stream": "stdout",
       "text": [
        "WARNING: Volume is correct only if lake depth (terrain raster map) is in\r\n",
        "         meters\r\n",
        "\u0007"
       ]
      },
      {
       "output_type": "stream",
       "stream": "stdout",
       "text": [
        "WARNING: Volume is correct only if lake depth (terrain raster map) is in\r\n",
        "         meters\r\n",
        "\u0007"
       ]
      },
      {
       "output_type": "stream",
       "stream": "stdout",
       "text": [
        "WARNING: Volume is correct only if lake depth (terrain raster map) is in\r\n",
        "         meters\r\n",
        "\u0007"
       ]
      },
      {
       "output_type": "stream",
       "stream": "stdout",
       "text": [
        "WARNING: Volume is correct only if lake depth (terrain raster map) is in\r\n",
        "         meters\r\n",
        "\u0007"
       ]
      },
      {
       "output_type": "stream",
       "stream": "stdout",
       "text": [
        "WARNING: Volume is correct only if lake depth (terrain raster map) is in\r\n",
        "         meters\r\n",
        "\u0007"
       ]
      },
      {
       "output_type": "stream",
       "stream": "stdout",
       "text": [
        "WARNING: Volume is correct only if lake depth (terrain raster map) is in\r\n",
        "         meters\r\n",
        "\u0007"
       ]
      },
      {
       "output_type": "stream",
       "stream": "stdout",
       "text": [
        "WARNING: Volume is correct only if lake depth (terrain raster map) is in\r\n",
        "         meters\r\n",
        "\u0007"
       ]
      },
      {
       "output_type": "stream",
       "stream": "stdout",
       "text": [
        "WARNING: Volume is correct only if lake depth (terrain raster map) is in\r\n",
        "         meters\r\n",
        "\u0007"
       ]
      },
      {
       "output_type": "stream",
       "stream": "stdout",
       "text": [
        "WARNING: Volume is correct only if lake depth (terrain raster map) is in\r\n",
        "         meters\r\n",
        "\u0007"
       ]
      },
      {
       "output_type": "stream",
       "stream": "stdout",
       "text": [
        "WARNING: Volume is correct only if lake depth (terrain raster map) is in\r\n",
        "         meters\r\n",
        "\u0007"
       ]
      },
      {
       "output_type": "stream",
       "stream": "stdout",
       "text": [
        "WARNING: Volume is correct only if lake depth (terrain raster map) is in\r\n",
        "         meters\r\n",
        "\u0007"
       ]
      },
      {
       "output_type": "stream",
       "stream": "stdout",
       "text": [
        "WARNING: Volume is correct only if lake depth (terrain raster map) is in\r\n",
        "         meters\r\n",
        "\u0007"
       ]
      },
      {
       "output_type": "stream",
       "stream": "stdout",
       "text": [
        "WARNING: Volume is correct only if lake depth (terrain raster map) is in\r\n",
        "         meters\r\n",
        "\u0007"
       ]
      },
      {
       "output_type": "stream",
       "stream": "stdout",
       "text": [
        "WARNING: Volume is correct only if lake depth (terrain raster map) is in\r\n",
        "         meters\r\n",
        "\u0007"
       ]
      },
      {
       "output_type": "stream",
       "stream": "stdout",
       "text": [
        "WARNING: Volume is correct only if lake depth (terrain raster map) is in\r\n",
        "         meters\r\n",
        "\u0007"
       ]
      },
      {
       "output_type": "stream",
       "stream": "stdout",
       "text": [
        "WARNING: Volume is correct only if lake depth (terrain raster map) is in\r\n",
        "         meters\r\n",
        "\u0007"
       ]
      },
      {
       "output_type": "stream",
       "stream": "stdout",
       "text": [
        "WARNING: Volume is correct only if lake depth (terrain raster map) is in\r\n",
        "         meters\r\n",
        "\u0007"
       ]
      },
      {
       "output_type": "stream",
       "stream": "stdout",
       "text": [
        "WARNING: Volume is correct only if lake depth (terrain raster map) is in\r\n",
        "         meters\r\n",
        "\u0007"
       ]
      },
      {
       "output_type": "stream",
       "stream": "stdout",
       "text": [
        "WARNING: Volume is correct only if lake depth (terrain raster map) is in\r\n",
        "         meters\r\n",
        "\u0007"
       ]
      },
      {
       "output_type": "stream",
       "stream": "stdout",
       "text": [
        "WARNING: Volume is correct only if lake depth (terrain raster map) is in\r\n",
        "         meters\r\n",
        "\u0007"
       ]
      },
      {
       "output_type": "stream",
       "stream": "stdout",
       "text": [
        "WARNING: Volume is correct only if lake depth (terrain raster map) is in\r\n",
        "         meters\r\n",
        "\u0007"
       ]
      },
      {
       "output_type": "stream",
       "stream": "stdout",
       "text": [
        "WARNING: Volume is correct only if lake depth (terrain raster map) is in\r\n",
        "         meters\r\n",
        "\u0007"
       ]
      },
      {
       "output_type": "stream",
       "stream": "stdout",
       "text": [
        "WARNING: Volume is correct only if lake depth (terrain raster map) is in\r\n",
        "         meters\r\n",
        "\u0007"
       ]
      },
      {
       "output_type": "stream",
       "stream": "stdout",
       "text": [
        "WARNING: Volume is correct only if lake depth (terrain raster map) is in\r\n",
        "         meters\r\n",
        "\u0007"
       ]
      },
      {
       "output_type": "stream",
       "stream": "stdout",
       "text": [
        "WARNING: Volume is correct only if lake depth (terrain raster map) is in\r\n",
        "         meters\r\n",
        "\u0007"
       ]
      },
      {
       "output_type": "stream",
       "stream": "stdout",
       "text": [
        "WARNING: Volume is correct only if lake depth (terrain raster map) is in\r\n",
        "         meters\r\n",
        "\u0007"
       ]
      },
      {
       "output_type": "stream",
       "stream": "stdout",
       "text": [
        "WARNING: Volume is correct only if lake depth (terrain raster map) is in\r\n",
        "         meters\r\n",
        "\u0007"
       ]
      },
      {
       "output_type": "stream",
       "stream": "stdout",
       "text": [
        "WARNING: Volume is correct only if lake depth (terrain raster map) is in\r\n",
        "         meters\r\n",
        "\u0007"
       ]
      },
      {
       "output_type": "stream",
       "stream": "stdout",
       "text": [
        "WARNING: Volume is correct only if lake depth (terrain raster map) is in\r\n",
        "         meters\r\n",
        "\u0007"
       ]
      },
      {
       "output_type": "stream",
       "stream": "stdout",
       "text": [
        "WARNING: Volume is correct only if lake depth (terrain raster map) is in\r\n",
        "         meters\r\n",
        "\u0007"
       ]
      },
      {
       "output_type": "stream",
       "stream": "stdout",
       "text": [
        "WARNING: Volume is correct only if lake depth (terrain raster map) is in\r\n",
        "         meters\r\n",
        "\u0007"
       ]
      },
      {
       "output_type": "stream",
       "stream": "stdout",
       "text": [
        "WARNING: Volume is correct only if lake depth (terrain raster map) is in\r\n",
        "         meters\r\n",
        "\u0007"
       ]
      },
      {
       "output_type": "stream",
       "stream": "stdout",
       "text": [
        "WARNING: Volume is correct only if lake depth (terrain raster map) is in\r\n",
        "         meters\r\n",
        "\u0007"
       ]
      },
      {
       "output_type": "stream",
       "stream": "stdout",
       "text": [
        "WARNING: Volume is correct only if lake depth (terrain raster map) is in\r\n",
        "         meters\r\n",
        "\u0007"
       ]
      },
      {
       "output_type": "stream",
       "stream": "stdout",
       "text": [
        "WARNING: Volume is correct only if lake depth (terrain raster map) is in\r\n",
        "         meters\r\n",
        "\u0007"
       ]
      },
      {
       "output_type": "stream",
       "stream": "stdout",
       "text": [
        "WARNING: Volume is correct only if lake depth (terrain raster map) is in\r\n",
        "         meters\r\n",
        "\u0007"
       ]
      },
      {
       "output_type": "stream",
       "stream": "stdout",
       "text": [
        "WARNING: Volume is correct only if lake depth (terrain raster map) is in\r\n",
        "         meters\r\n",
        "\u0007"
       ]
      },
      {
       "output_type": "stream",
       "stream": "stdout",
       "text": [
        "WARNING: Volume is correct only if lake depth (terrain raster map) is in\r\n",
        "         meters\r\n",
        "\u0007"
       ]
      },
      {
       "output_type": "stream",
       "stream": "stdout",
       "text": [
        "WARNING: Volume is correct only if lake depth (terrain raster map) is in\r\n",
        "         meters\r\n",
        "\u0007"
       ]
      },
      {
       "output_type": "stream",
       "stream": "stdout",
       "text": [
        "WARNING: Volume is correct only if lake depth (terrain raster map) is in\r\n",
        "         meters\r\n",
        "\u0007"
       ]
      },
      {
       "output_type": "stream",
       "stream": "stdout",
       "text": [
        "WARNING: Volume is correct only if lake depth (terrain raster map) is in\r\n",
        "         meters\r\n",
        "\u0007"
       ]
      },
      {
       "output_type": "stream",
       "stream": "stdout",
       "text": [
        "WARNING: Volume is correct only if lake depth (terrain raster map) is in\r\n",
        "         meters\r\n",
        "\u0007"
       ]
      },
      {
       "output_type": "stream",
       "stream": "stdout",
       "text": [
        "WARNING: Volume is correct only if lake depth (terrain raster map) is in\r\n",
        "         meters\r\n",
        "\u0007"
       ]
      },
      {
       "output_type": "stream",
       "stream": "stdout",
       "text": [
        "WARNING: Volume is correct only if lake depth (terrain raster map) is in\r\n",
        "         meters\r\n",
        "\u0007"
       ]
      },
      {
       "output_type": "stream",
       "stream": "stdout",
       "text": [
        "WARNING: Volume is correct only if lake depth (terrain raster map) is in\r\n",
        "         meters\r\n",
        "\u0007"
       ]
      },
      {
       "output_type": "stream",
       "stream": "stdout",
       "text": [
        "WARNING: Volume is correct only if lake depth (terrain raster map) is in\r\n",
        "         meters\r\n",
        "\u0007"
       ]
      },
      {
       "output_type": "stream",
       "stream": "stdout",
       "text": [
        "WARNING: Volume is correct only if lake depth (terrain raster map) is in\r\n",
        "         meters\r\n",
        "\u0007"
       ]
      },
      {
       "output_type": "stream",
       "stream": "stdout",
       "text": [
        "WARNING: Volume is correct only if lake depth (terrain raster map) is in\r\n",
        "         meters\r\n",
        "\u0007"
       ]
      },
      {
       "output_type": "stream",
       "stream": "stdout",
       "text": [
        "WARNING: Volume is correct only if lake depth (terrain raster map) is in\r\n",
        "         meters\r\n",
        "\u0007"
       ]
      },
      {
       "output_type": "stream",
       "stream": "stdout",
       "text": [
        "WARNING: Volume is correct only if lake depth (terrain raster map) is in\r\n",
        "         meters\r\n",
        "\u0007"
       ]
      },
      {
       "output_type": "stream",
       "stream": "stdout",
       "text": [
        "WARNING: Volume is correct only if lake depth (terrain raster map) is in\r\n",
        "         meters\r\n",
        "\u0007"
       ]
      },
      {
       "output_type": "stream",
       "stream": "stdout",
       "text": [
        "WARNING: Volume is correct only if lake depth (terrain raster map) is in\r\n",
        "         meters\r\n",
        "\u0007"
       ]
      },
      {
       "output_type": "stream",
       "stream": "stdout",
       "text": [
        "WARNING: Volume is correct only if lake depth (terrain raster map) is in\r\n",
        "         meters\r\n",
        "\u0007"
       ]
      },
      {
       "output_type": "stream",
       "stream": "stdout",
       "text": [
        "WARNING: Volume is correct only if lake depth (terrain raster map) is in\r\n",
        "         meters\r\n",
        "\u0007"
       ]
      },
      {
       "output_type": "stream",
       "stream": "stdout",
       "text": [
        "WARNING: Volume is correct only if lake depth (terrain raster map) is in\r\n",
        "         meters\r\n",
        "\u0007"
       ]
      },
      {
       "output_type": "stream",
       "stream": "stdout",
       "text": [
        "WARNING: Volume is correct only if lake depth (terrain raster map) is in\r\n",
        "         meters\r\n",
        "\u0007"
       ]
      },
      {
       "output_type": "stream",
       "stream": "stdout",
       "text": [
        "WARNING: Volume is correct only if lake depth (terrain raster map) is in\r\n",
        "         meters\r\n",
        "\u0007"
       ]
      },
      {
       "output_type": "stream",
       "stream": "stdout",
       "text": [
        "WARNING: Volume is correct only if lake depth (terrain raster map) is in\r\n",
        "         meters\r\n",
        "\u0007"
       ]
      },
      {
       "output_type": "stream",
       "stream": "stdout",
       "text": [
        "WARNING: Volume is correct only if lake depth (terrain raster map) is in\r\n",
        "         meters\r\n",
        "\u0007"
       ]
      },
      {
       "output_type": "stream",
       "stream": "stdout",
       "text": [
        "WARNING: Volume is correct only if lake depth (terrain raster map) is in\r\n",
        "         meters\r\n",
        "\u0007"
       ]
      },
      {
       "output_type": "stream",
       "stream": "stdout",
       "text": [
        "WARNING: Volume is correct only if lake depth (terrain raster map) is in\r\n",
        "         meters\r\n",
        "\u0007"
       ]
      },
      {
       "output_type": "stream",
       "stream": "stdout",
       "text": [
        "WARNING: Volume is correct only if lake depth (terrain raster map) is in\r\n",
        "         meters\r\n",
        "\u0007"
       ]
      },
      {
       "output_type": "stream",
       "stream": "stdout",
       "text": [
        "WARNING: Volume is correct only if lake depth (terrain raster map) is in\r\n",
        "         meters\r\n",
        "\u0007"
       ]
      },
      {
       "output_type": "stream",
       "stream": "stdout",
       "text": [
        "WARNING: Volume is correct only if lake depth (terrain raster map) is in\r\n",
        "         meters\r\n",
        "\u0007"
       ]
      },
      {
       "output_type": "stream",
       "stream": "stdout",
       "text": [
        "WARNING: Volume is correct only if lake depth (terrain raster map) is in\r\n",
        "         meters\r\n",
        "\u0007"
       ]
      },
      {
       "output_type": "stream",
       "stream": "stdout",
       "text": [
        "WARNING: Volume is correct only if lake depth (terrain raster map) is in\r\n",
        "         meters\r\n",
        "\u0007"
       ]
      },
      {
       "output_type": "stream",
       "stream": "stdout",
       "text": [
        "WARNING: Volume is correct only if lake depth (terrain raster map) is in\r\n",
        "         meters\r\n",
        "\u0007"
       ]
      },
      {
       "output_type": "stream",
       "stream": "stdout",
       "text": [
        "WARNING: Volume is correct only if lake depth (terrain raster map) is in\r\n",
        "         meters\r\n",
        "\u0007"
       ]
      }
     ],
     "prompt_number": 6
    },
    {
     "cell_type": "code",
     "collapsed": false,
     "input": [
      "figure(figsize=(8,6))\n",
      "plot(volume,depth,label=\"Volume\")\n",
      "legend()\n",
      "twiny()\n",
      "plot(area,depth,color=\"g\",label=\"Area\")\n",
      "legend()"
     ],
     "language": "python",
     "metadata": {},
     "outputs": [
      {
       "metadata": {},
       "output_type": "pyout",
       "prompt_number": 7,
       "text": [
        "<matplotlib.legend.Legend at 0x1083caa10>"
       ]
      },
      {
       "metadata": {},
       "output_type": "display_data",
       "png": "[encoded data removed]",
       "text": [
        "<matplotlib.figure.Figure at 0x108291e10>"
       ]
      }
     ],
     "prompt_number": 7
    },
    {
     "cell_type": "code",
     "collapsed": false,
     "input": [
      "with open('depthcurve_nodam.csv', 'w') as csvfile:\n",
      "    spamwriter = csv.writer(csvfile, delimiter=',', quotechar='|', quoting=csv.QUOTE_MINIMAL)\n",
      "    for i in range(0,96):\n",
      "        spamwriter.writerow([depth[i],volume[i],area[i]])"
     ],
     "language": "python",
     "metadata": {},
     "outputs": [],
     "prompt_number": 8
    },
    {
     "cell_type": "markdown",
     "metadata": {},
     "source": [
      "Now add a dam to the dem, at the sill elevation (79.5) rather than the dyke elevation (81.2) and redo the flood algorithm."
     ]
    },
    {
     "cell_type": "code",
     "collapsed": false,
     "input": [
      "!r.mapcalc \"eu_bath_dam = if(isnull(damline),eu_bath,81.2)\" --o --q"
     ],
     "language": "python",
     "metadata": {},
     "outputs": [],
     "prompt_number": 123
    },
    {
     "cell_type": "code",
     "collapsed": false,
     "input": [
      "levels = np.arange(72.05,81.2,.05)\n",
      "area = list()\n",
      "depth = list()\n",
      "volume = list()\n",
      "for i in levels:\n",
      "    !r.lake elevation=eu_bath_dam lake=lake_flood water_level=$i seed=lake_seed --o --q\n",
      "    out = grass.read_command(\"r.univar\",map=\"lake_flood\").rstrip().split('\\n')\n",
      "    dat = list((float(out[5][3:]),float(out[7][9:]),float(out[14][5:])))\n",
      "    area.append(dat[0] * 900.0)\n",
      "    depth.append(dat[1])\n",
      "    volume.append(dat[2] * 900.0)"
     ],
     "language": "python",
     "metadata": {},
     "outputs": [
      {
       "output_type": "stream",
       "stream": "stdout",
       "text": [
        "WARNING: Volume is correct only if lake depth (terrain raster map) is in\r\n",
        "         meters\r\n",
        "\u0007"
       ]
      },
      {
       "output_type": "stream",
       "stream": "stdout",
       "text": [
        "WARNING: Volume is correct only if lake depth (terrain raster map) is in\r\n",
        "         meters\r\n",
        "\u0007"
       ]
      },
      {
       "output_type": "stream",
       "stream": "stdout",
       "text": [
        "WARNING: Volume is correct only if lake depth (terrain raster map) is in\r\n",
        "         meters\r\n",
        "\u0007"
       ]
      },
      {
       "output_type": "stream",
       "stream": "stdout",
       "text": [
        "WARNING: Volume is correct only if lake depth (terrain raster map) is in\r\n",
        "         meters\r\n",
        "\u0007"
       ]
      },
      {
       "output_type": "stream",
       "stream": "stdout",
       "text": [
        "WARNING: Volume is correct only if lake depth (terrain raster map) is in\r\n",
        "         meters\r\n",
        "\u0007"
       ]
      },
      {
       "output_type": "stream",
       "stream": "stdout",
       "text": [
        "WARNING: Volume is correct only if lake depth (terrain raster map) is in\r\n",
        "         meters\r\n",
        "\u0007"
       ]
      },
      {
       "output_type": "stream",
       "stream": "stdout",
       "text": [
        "WARNING: Volume is correct only if lake depth (terrain raster map) is in\r\n",
        "         meters\r\n",
        "\u0007"
       ]
      },
      {
       "output_type": "stream",
       "stream": "stdout",
       "text": [
        "WARNING: Volume is correct only if lake depth (terrain raster map) is in\r\n",
        "         meters\r\n",
        "\u0007"
       ]
      },
      {
       "output_type": "stream",
       "stream": "stdout",
       "text": [
        "WARNING: Volume is correct only if lake depth (terrain raster map) is in\r\n",
        "         meters\r\n",
        "\u0007"
       ]
      },
      {
       "output_type": "stream",
       "stream": "stdout",
       "text": [
        "WARNING: Volume is correct only if lake depth (terrain raster map) is in\r\n",
        "         meters\r\n",
        "\u0007"
       ]
      },
      {
       "output_type": "stream",
       "stream": "stdout",
       "text": [
        "WARNING: Volume is correct only if lake depth (terrain raster map) is in\r\n",
        "         meters\r\n",
        "\u0007"
       ]
      },
      {
       "output_type": "stream",
       "stream": "stdout",
       "text": [
        "WARNING: Volume is correct only if lake depth (terrain raster map) is in\r\n",
        "         meters\r\n",
        "\u0007"
       ]
      },
      {
       "output_type": "stream",
       "stream": "stdout",
       "text": [
        "WARNING: Volume is correct only if lake depth (terrain raster map) is in\r\n",
        "         meters\r\n",
        "\u0007"
       ]
      },
      {
       "output_type": "stream",
       "stream": "stdout",
       "text": [
        "WARNING: Volume is correct only if lake depth (terrain raster map) is in\r\n",
        "         meters\r\n",
        "\u0007"
       ]
      },
      {
       "output_type": "stream",
       "stream": "stdout",
       "text": [
        "WARNING: Volume is correct only if lake depth (terrain raster map) is in\r\n",
        "         meters\r\n",
        "\u0007"
       ]
      },
      {
       "output_type": "stream",
       "stream": "stdout",
       "text": [
        "WARNING: Volume is correct only if lake depth (terrain raster map) is in\r\n",
        "         meters\r\n",
        "\u0007"
       ]
      },
      {
       "output_type": "stream",
       "stream": "stdout",
       "text": [
        "WARNING: Volume is correct only if lake depth (terrain raster map) is in\r\n",
        "         meters\r\n",
        "\u0007"
       ]
      },
      {
       "output_type": "stream",
       "stream": "stdout",
       "text": [
        "WARNING: Volume is correct only if lake depth (terrain raster map) is in\r\n",
        "         meters\r\n",
        "\u0007"
       ]
      },
      {
       "output_type": "stream",
       "stream": "stdout",
       "text": [
        "WARNING: Volume is correct only if lake depth (terrain raster map) is in\r\n",
        "         meters\r\n",
        "\u0007"
       ]
      },
      {
       "output_type": "stream",
       "stream": "stdout",
       "text": [
        "WARNING: Volume is correct only if lake depth (terrain raster map) is in\r\n",
        "         meters\r\n",
        "\u0007"
       ]
      },
      {
       "output_type": "stream",
       "stream": "stdout",
       "text": [
        "WARNING: Volume is correct only if lake depth (terrain raster map) is in\r\n",
        "         meters\r\n",
        "\u0007"
       ]
      },
      {
       "output_type": "stream",
       "stream": "stdout",
       "text": [
        "WARNING: Volume is correct only if lake depth (terrain raster map) is in\r\n",
        "         meters\r\n",
        "\u0007"
       ]
      },
      {
       "output_type": "stream",
       "stream": "stdout",
       "text": [
        "WARNING: Volume is correct only if lake depth (terrain raster map) is in\r\n",
        "         meters\r\n",
        "\u0007"
       ]
      },
      {
       "output_type": "stream",
       "stream": "stdout",
       "text": [
        "WARNING: Volume is correct only if lake depth (terrain raster map) is in\r\n",
        "         meters\r\n",
        "\u0007"
       ]
      },
      {
       "output_type": "stream",
       "stream": "stdout",
       "text": [
        "WARNING: Volume is correct only if lake depth (terrain raster map) is in\r\n",
        "         meters\r\n",
        "\u0007"
       ]
      },
      {
       "output_type": "stream",
       "stream": "stdout",
       "text": [
        "WARNING: Volume is correct only if lake depth (terrain raster map) is in\r\n",
        "         meters\r\n",
        "\u0007"
       ]
      },
      {
       "output_type": "stream",
       "stream": "stdout",
       "text": [
        "WARNING: Volume is correct only if lake depth (terrain raster map) is in\r\n",
        "         meters\r\n",
        "\u0007"
       ]
      },
      {
       "output_type": "stream",
       "stream": "stdout",
       "text": [
        "WARNING: Volume is correct only if lake depth (terrain raster map) is in\r\n",
        "         meters\r\n",
        "\u0007"
       ]
      },
      {
       "output_type": "stream",
       "stream": "stdout",
       "text": [
        "WARNING: Volume is correct only if lake depth (terrain raster map) is in\r\n",
        "         meters\r\n",
        "\u0007"
       ]
      },
      {
       "output_type": "stream",
       "stream": "stdout",
       "text": [
        "WARNING: Volume is correct only if lake depth (terrain raster map) is in\r\n",
        "         meters\r\n",
        "\u0007"
       ]
      },
      {
       "output_type": "stream",
       "stream": "stdout",
       "text": [
        "WARNING: Volume is correct only if lake depth (terrain raster map) is in\r\n",
        "         meters\r\n",
        "\u0007"
       ]
      },
      {
       "output_type": "stream",
       "stream": "stdout",
       "text": [
        "WARNING: Volume is correct only if lake depth (terrain raster map) is in\r\n",
        "         meters\r\n",
        "\u0007"
       ]
      },
      {
       "output_type": "stream",
       "stream": "stdout",
       "text": [
        "WARNING: Volume is correct only if lake depth (terrain raster map) is in\r\n",
        "         meters\r\n",
        "\u0007"
       ]
      },
      {
       "output_type": "stream",
       "stream": "stdout",
       "text": [
        "WARNING: Volume is correct only if lake depth (terrain raster map) is in\r\n",
        "         meters\r\n",
        "\u0007"
       ]
      },
      {
       "output_type": "stream",
       "stream": "stdout",
       "text": [
        "WARNING: Volume is correct only if lake depth (terrain raster map) is in\r\n",
        "         meters\r\n",
        "\u0007"
       ]
      },
      {
       "output_type": "stream",
       "stream": "stdout",
       "text": [
        "WARNING: Volume is correct only if lake depth (terrain raster map) is in\r\n",
        "         meters\r\n",
        "\u0007"
       ]
      },
      {
       "output_type": "stream",
       "stream": "stdout",
       "text": [
        "WARNING: Volume is correct only if lake depth (terrain raster map) is in\r\n",
        "         meters\r\n",
        "\u0007"
       ]
      },
      {
       "output_type": "stream",
       "stream": "stdout",
       "text": [
        "WARNING: Volume is correct only if lake depth (terrain raster map) is in\r\n",
        "         meters\r\n",
        "\u0007"
       ]
      },
      {
       "output_type": "stream",
       "stream": "stdout",
       "text": [
        "WARNING: Volume is correct only if lake depth (terrain raster map) is in\r\n",
        "         meters\r\n",
        "\u0007"
       ]
      },
      {
       "output_type": "stream",
       "stream": "stdout",
       "text": [
        "WARNING: Volume is correct only if lake depth (terrain raster map) is in\r\n",
        "         meters\r\n",
        "\u0007"
       ]
      },
      {
       "output_type": "stream",
       "stream": "stdout",
       "text": [
        "WARNING: Volume is correct only if lake depth (terrain raster map) is in\r\n",
        "         meters\r\n",
        "\u0007"
       ]
      },
      {
       "output_type": "stream",
       "stream": "stdout",
       "text": [
        "WARNING: Volume is correct only if lake depth (terrain raster map) is in\r\n",
        "         meters\r\n",
        "\u0007"
       ]
      },
      {
       "output_type": "stream",
       "stream": "stdout",
       "text": [
        "WARNING: Volume is correct only if lake depth (terrain raster map) is in\r\n",
        "         meters\r\n",
        "\u0007"
       ]
      },
      {
       "output_type": "stream",
       "stream": "stdout",
       "text": [
        "WARNING: Volume is correct only if lake depth (terrain raster map) is in\r\n",
        "         meters\r\n",
        "\u0007"
       ]
      },
      {
       "output_type": "stream",
       "stream": "stdout",
       "text": [
        "WARNING: Volume is correct only if lake depth (terrain raster map) is in\r\n",
        "         meters\r\n",
        "\u0007"
       ]
      },
      {
       "output_type": "stream",
       "stream": "stdout",
       "text": [
        "WARNING: Volume is correct only if lake depth (terrain raster map) is in\r\n",
        "         meters\r\n",
        "\u0007"
       ]
      },
      {
       "output_type": "stream",
       "stream": "stdout",
       "text": [
        "WARNING: Volume is correct only if lake depth (terrain raster map) is in\r\n",
        "         meters\r\n",
        "\u0007"
       ]
      },
      {
       "output_type": "stream",
       "stream": "stdout",
       "text": [
        "WARNING: Volume is correct only if lake depth (terrain raster map) is in\r\n",
        "         meters\r\n",
        "\u0007"
       ]
      },
      {
       "output_type": "stream",
       "stream": "stdout",
       "text": [
        "WARNING: Volume is correct only if lake depth (terrain raster map) is in\r\n",
        "         meters\r\n",
        "\u0007"
       ]
      },
      {
       "output_type": "stream",
       "stream": "stdout",
       "text": [
        "WARNING: Volume is correct only if lake depth (terrain raster map) is in\r\n",
        "         meters\r\n",
        "\u0007"
       ]
      },
      {
       "output_type": "stream",
       "stream": "stdout",
       "text": [
        "WARNING: Volume is correct only if lake depth (terrain raster map) is in\r\n",
        "         meters\r\n",
        "\u0007"
       ]
      },
      {
       "output_type": "stream",
       "stream": "stdout",
       "text": [
        "WARNING: Volume is correct only if lake depth (terrain raster map) is in\r\n",
        "         meters\r\n",
        "\u0007"
       ]
      },
      {
       "output_type": "stream",
       "stream": "stdout",
       "text": [
        "WARNING: Volume is correct only if lake depth (terrain raster map) is in\r\n",
        "         meters\r\n",
        "\u0007"
       ]
      },
      {
       "output_type": "stream",
       "stream": "stdout",
       "text": [
        "WARNING: Volume is correct only if lake depth (terrain raster map) is in\r\n",
        "         meters\r\n",
        "\u0007"
       ]
      },
      {
       "output_type": "stream",
       "stream": "stdout",
       "text": [
        "WARNING: Volume is correct only if lake depth (terrain raster map) is in\r\n",
        "         meters\r\n",
        "\u0007"
       ]
      },
      {
       "output_type": "stream",
       "stream": "stdout",
       "text": [
        "WARNING: Volume is correct only if lake depth (terrain raster map) is in\r\n",
        "         meters\r\n",
        "\u0007"
       ]
      },
      {
       "output_type": "stream",
       "stream": "stdout",
       "text": [
        "WARNING: Volume is correct only if lake depth (terrain raster map) is in\r\n",
        "         meters\r\n",
        "\u0007"
       ]
      },
      {
       "output_type": "stream",
       "stream": "stdout",
       "text": [
        "WARNING: Volume is correct only if lake depth (terrain raster map) is in\r\n",
        "         meters\r\n",
        "\u0007"
       ]
      },
      {
       "output_type": "stream",
       "stream": "stdout",
       "text": [
        "WARNING: Volume is correct only if lake depth (terrain raster map) is in\r\n",
        "         meters\r\n",
        "\u0007"
       ]
      },
      {
       "output_type": "stream",
       "stream": "stdout",
       "text": [
        "WARNING: Volume is correct only if lake depth (terrain raster map) is in\r\n",
        "         meters\r\n",
        "\u0007"
       ]
      },
      {
       "output_type": "stream",
       "stream": "stdout",
       "text": [
        "WARNING: Volume is correct only if lake depth (terrain raster map) is in\r\n",
        "         meters\r\n",
        "\u0007"
       ]
      },
      {
       "output_type": "stream",
       "stream": "stdout",
       "text": [
        "WARNING: Volume is correct only if lake depth (terrain raster map) is in\r\n",
        "         meters\r\n",
        "\u0007"
       ]
      },
      {
       "output_type": "stream",
       "stream": "stdout",
       "text": [
        "WARNING: Volume is correct only if lake depth (terrain raster map) is in\r\n",
        "         meters\r\n",
        "\u0007"
       ]
      },
      {
       "output_type": "stream",
       "stream": "stdout",
       "text": [
        "WARNING: Volume is correct only if lake depth (terrain raster map) is in\r\n",
        "         meters\r\n",
        "\u0007"
       ]
      },
      {
       "output_type": "stream",
       "stream": "stdout",
       "text": [
        "WARNING: Volume is correct only if lake depth (terrain raster map) is in\r\n",
        "         meters\r\n",
        "\u0007"
       ]
      },
      {
       "output_type": "stream",
       "stream": "stdout",
       "text": [
        "WARNING: Volume is correct only if lake depth (terrain raster map) is in\r\n",
        "         meters\r\n",
        "\u0007"
       ]
      },
      {
       "output_type": "stream",
       "stream": "stdout",
       "text": [
        "WARNING: Volume is correct only if lake depth (terrain raster map) is in\r\n",
        "         meters\r\n",
        "\u0007"
       ]
      },
      {
       "output_type": "stream",
       "stream": "stdout",
       "text": [
        "WARNING: Volume is correct only if lake depth (terrain raster map) is in\r\n",
        "         meters\r\n",
        "\u0007"
       ]
      },
      {
       "output_type": "stream",
       "stream": "stdout",
       "text": [
        "WARNING: Volume is correct only if lake depth (terrain raster map) is in\r\n",
        "         meters\r\n",
        "\u0007"
       ]
      },
      {
       "output_type": "stream",
       "stream": "stdout",
       "text": [
        "WARNING: Volume is correct only if lake depth (terrain raster map) is in\r\n",
        "         meters\r\n",
        "\u0007"
       ]
      },
      {
       "output_type": "stream",
       "stream": "stdout",
       "text": [
        "WARNING: Volume is correct only if lake depth (terrain raster map) is in\r\n",
        "         meters\r\n",
        "\u0007"
       ]
      },
      {
       "output_type": "stream",
       "stream": "stdout",
       "text": [
        "WARNING: Volume is correct only if lake depth (terrain raster map) is in\r\n",
        "         meters\r\n",
        "\u0007"
       ]
      },
      {
       "output_type": "stream",
       "stream": "stdout",
       "text": [
        "WARNING: Volume is correct only if lake depth (terrain raster map) is in\r\n",
        "         meters\r\n",
        "\u0007"
       ]
      },
      {
       "output_type": "stream",
       "stream": "stdout",
       "text": [
        "WARNING: Volume is correct only if lake depth (terrain raster map) is in\r\n",
        "         meters\r\n",
        "\u0007"
       ]
      },
      {
       "output_type": "stream",
       "stream": "stdout",
       "text": [
        "WARNING: Volume is correct only if lake depth (terrain raster map) is in\r\n",
        "         meters\r\n",
        "\u0007"
       ]
      },
      {
       "output_type": "stream",
       "stream": "stdout",
       "text": [
        "WARNING: Volume is correct only if lake depth (terrain raster map) is in\r\n",
        "         meters\r\n",
        "\u0007"
       ]
      },
      {
       "output_type": "stream",
       "stream": "stdout",
       "text": [
        "WARNING: Volume is correct only if lake depth (terrain raster map) is in\r\n",
        "         meters\r\n",
        "\u0007"
       ]
      },
      {
       "output_type": "stream",
       "stream": "stdout",
       "text": [
        "WARNING: Volume is correct only if lake depth (terrain raster map) is in\r\n",
        "         meters\r\n",
        "\u0007"
       ]
      },
      {
       "output_type": "stream",
       "stream": "stdout",
       "text": [
        "WARNING: Volume is correct only if lake depth (terrain raster map) is in\r\n",
        "         meters\r\n",
        "\u0007"
       ]
      },
      {
       "output_type": "stream",
       "stream": "stdout",
       "text": [
        "WARNING: Volume is correct only if lake depth (terrain raster map) is in\r\n",
        "         meters\r\n",
        "\u0007"
       ]
      },
      {
       "output_type": "stream",
       "stream": "stdout",
       "text": [
        "WARNING: Volume is correct only if lake depth (terrain raster map) is in\r\n",
        "         meters\r\n",
        "\u0007"
       ]
      },
      {
       "output_type": "stream",
       "stream": "stdout",
       "text": [
        "WARNING: Volume is correct only if lake depth (terrain raster map) is in\r\n",
        "         meters\r\n",
        "\u0007"
       ]
      },
      {
       "output_type": "stream",
       "stream": "stdout",
       "text": [
        "WARNING: Volume is correct only if lake depth (terrain raster map) is in\r\n",
        "         meters\r\n",
        "\u0007"
       ]
      },
      {
       "output_type": "stream",
       "stream": "stdout",
       "text": [
        "WARNING: Volume is correct only if lake depth (terrain raster map) is in\r\n",
        "         meters\r\n",
        "\u0007"
       ]
      },
      {
       "output_type": "stream",
       "stream": "stdout",
       "text": [
        "WARNING: Volume is correct only if lake depth (terrain raster map) is in\r\n",
        "         meters\r\n",
        "\u0007"
       ]
      },
      {
       "output_type": "stream",
       "stream": "stdout",
       "text": [
        "WARNING: Volume is correct only if lake depth (terrain raster map) is in\r\n",
        "         meters\r\n",
        "\u0007"
       ]
      },
      {
       "output_type": "stream",
       "stream": "stdout",
       "text": [
        "WARNING: Volume is correct only if lake depth (terrain raster map) is in\r\n",
        "         meters\r\n",
        "\u0007"
       ]
      },
      {
       "output_type": "stream",
       "stream": "stdout",
       "text": [
        "WARNING: Volume is correct only if lake depth (terrain raster map) is in\r\n",
        "         meters\r\n",
        "\u0007"
       ]
      },
      {
       "output_type": "stream",
       "stream": "stdout",
       "text": [
        "WARNING: Volume is correct only if lake depth (terrain raster map) is in\r\n",
        "         meters\r\n",
        "\u0007"
       ]
      },
      {
       "output_type": "stream",
       "stream": "stdout",
       "text": [
        "WARNING: Volume is correct only if lake depth (terrain raster map) is in\r\n",
        "         meters\r\n",
        "\u0007"
       ]
      },
      {
       "output_type": "stream",
       "stream": "stdout",
       "text": [
        "WARNING: Volume is correct only if lake depth (terrain raster map) is in\r\n",
        "         meters\r\n",
        "\u0007"
       ]
      },
      {
       "output_type": "stream",
       "stream": "stdout",
       "text": [
        "WARNING: Volume is correct only if lake depth (terrain raster map) is in\r\n",
        "         meters\r\n",
        "\u0007"
       ]
      },
      {
       "output_type": "stream",
       "stream": "stdout",
       "text": [
        "WARNING: Volume is correct only if lake depth (terrain raster map) is in\r\n",
        "         meters\r\n",
        "\u0007"
       ]
      },
      {
       "output_type": "stream",
       "stream": "stdout",
       "text": [
        "WARNING: Volume is correct only if lake depth (terrain raster map) is in\r\n",
        "         meters\r\n",
        "\u0007"
       ]
      },
      {
       "output_type": "stream",
       "stream": "stdout",
       "text": [
        "WARNING: Volume is correct only if lake depth (terrain raster map) is in\r\n",
        "         meters\r\n",
        "\u0007"
       ]
      },
      {
       "output_type": "stream",
       "stream": "stdout",
       "text": [
        "WARNING: Volume is correct only if lake depth (terrain raster map) is in\r\n",
        "         meters\r\n",
        "\u0007"
       ]
      },
      {
       "output_type": "stream",
       "stream": "stdout",
       "text": [
        "WARNING: Volume is correct only if lake depth (terrain raster map) is in\r\n",
        "         meters\r\n",
        "\u0007"
       ]
      },
      {
       "output_type": "stream",
       "stream": "stdout",
       "text": [
        "WARNING: Volume is correct only if lake depth (terrain raster map) is in\r\n",
        "         meters\r\n",
        "\u0007"
       ]
      },
      {
       "output_type": "stream",
       "stream": "stdout",
       "text": [
        "WARNING: Volume is correct only if lake depth (terrain raster map) is in\r\n",
        "         meters\r\n",
        "\u0007"
       ]
      },
      {
       "output_type": "stream",
       "stream": "stdout",
       "text": [
        "WARNING: Volume is correct only if lake depth (terrain raster map) is in\r\n",
        "         meters\r\n",
        "\u0007"
       ]
      },
      {
       "output_type": "stream",
       "stream": "stdout",
       "text": [
        "WARNING: Volume is correct only if lake depth (terrain raster map) is in\r\n",
        "         meters\r\n",
        "\u0007"
       ]
      },
      {
       "output_type": "stream",
       "stream": "stdout",
       "text": [
        "WARNING: Volume is correct only if lake depth (terrain raster map) is in\r\n",
        "         meters\r\n",
        "\u0007"
       ]
      },
      {
       "output_type": "stream",
       "stream": "stdout",
       "text": [
        "WARNING: Volume is correct only if lake depth (terrain raster map) is in\r\n",
        "         meters\r\n",
        "\u0007"
       ]
      },
      {
       "output_type": "stream",
       "stream": "stdout",
       "text": [
        "WARNING: Volume is correct only if lake depth (terrain raster map) is in\r\n",
        "         meters\r\n",
        "\u0007"
       ]
      },
      {
       "output_type": "stream",
       "stream": "stdout",
       "text": [
        "WARNING: Volume is correct only if lake depth (terrain raster map) is in\r\n",
        "         meters\r\n",
        "\u0007"
       ]
      },
      {
       "output_type": "stream",
       "stream": "stdout",
       "text": [
        "WARNING: Volume is correct only if lake depth (terrain raster map) is in\r\n",
        "         meters\r\n",
        "\u0007"
       ]
      },
      {
       "output_type": "stream",
       "stream": "stdout",
       "text": [
        "WARNING: Volume is correct only if lake depth (terrain raster map) is in\r\n",
        "         meters\r\n",
        "\u0007"
       ]
      },
      {
       "output_type": "stream",
       "stream": "stdout",
       "text": [
        "WARNING: Volume is correct only if lake depth (terrain raster map) is in\r\n",
        "         meters\r\n",
        "\u0007"
       ]
      },
      {
       "output_type": "stream",
       "stream": "stdout",
       "text": [
        "WARNING: Volume is correct only if lake depth (terrain raster map) is in\r\n",
        "         meters\r\n",
        "\u0007"
       ]
      },
      {
       "output_type": "stream",
       "stream": "stdout",
       "text": [
        "WARNING: Volume is correct only if lake depth (terrain raster map) is in\r\n",
        "         meters\r\n",
        "\u0007"
       ]
      },
      {
       "output_type": "stream",
       "stream": "stdout",
       "text": [
        "WARNING: Volume is correct only if lake depth (terrain raster map) is in\r\n",
        "         meters\r\n",
        "\u0007"
       ]
      },
      {
       "output_type": "stream",
       "stream": "stdout",
       "text": [
        "WARNING: Volume is correct only if lake depth (terrain raster map) is in\r\n",
        "         meters\r\n",
        "\u0007"
       ]
      },
      {
       "output_type": "stream",
       "stream": "stdout",
       "text": [
        "WARNING: Volume is correct only if lake depth (terrain raster map) is in\r\n",
        "         meters\r\n",
        "\u0007"
       ]
      },
      {
       "output_type": "stream",
       "stream": "stdout",
       "text": [
        "WARNING: Volume is correct only if lake depth (terrain raster map) is in\r\n",
        "         meters\r\n",
        "\u0007"
       ]
      },
      {
       "output_type": "stream",
       "stream": "stdout",
       "text": [
        "WARNING: Volume is correct only if lake depth (terrain raster map) is in\r\n",
        "         meters\r\n",
        "\u0007"
       ]
      },
      {
       "output_type": "stream",
       "stream": "stdout",
       "text": [
        "WARNING: Volume is correct only if lake depth (terrain raster map) is in\r\n",
        "         meters\r\n",
        "\u0007"
       ]
      },
      {
       "output_type": "stream",
       "stream": "stdout",
       "text": [
        "WARNING: Volume is correct only if lake depth (terrain raster map) is in\r\n",
        "         meters\r\n",
        "\u0007"
       ]
      },
      {
       "output_type": "stream",
       "stream": "stdout",
       "text": [
        "WARNING: Volume is correct only if lake depth (terrain raster map) is in\r\n",
        "         meters\r\n",
        "\u0007"
       ]
      },
      {
       "output_type": "stream",
       "stream": "stdout",
       "text": [
        "WARNING: Volume is correct only if lake depth (terrain raster map) is in\r\n",
        "         meters\r\n",
        "\u0007"
       ]
      },
      {
       "output_type": "stream",
       "stream": "stdout",
       "text": [
        "WARNING: Volume is correct only if lake depth (terrain raster map) is in\r\n",
        "         meters\r\n",
        "\u0007"
       ]
      },
      {
       "output_type": "stream",
       "stream": "stdout",
       "text": [
        "WARNING: Volume is correct only if lake depth (terrain raster map) is in\r\n",
        "         meters\r\n",
        "\u0007"
       ]
      },
      {
       "output_type": "stream",
       "stream": "stdout",
       "text": [
        "WARNING: Volume is correct only if lake depth (terrain raster map) is in\r\n",
        "         meters\r\n",
        "\u0007"
       ]
      },
      {
       "output_type": "stream",
       "stream": "stdout",
       "text": [
        "WARNING: Volume is correct only if lake depth (terrain raster map) is in\r\n",
        "         meters\r\n",
        "\u0007"
       ]
      },
      {
       "output_type": "stream",
       "stream": "stdout",
       "text": [
        "WARNING: Volume is correct only if lake depth (terrain raster map) is in\r\n",
        "         meters\r\n",
        "\u0007"
       ]
      },
      {
       "output_type": "stream",
       "stream": "stdout",
       "text": [
        "WARNING: Volume is correct only if lake depth (terrain raster map) is in\r\n",
        "         meters\r\n",
        "\u0007"
       ]
      },
      {
       "output_type": "stream",
       "stream": "stdout",
       "text": [
        "WARNING: Volume is correct only if lake depth (terrain raster map) is in\r\n",
        "         meters\r\n",
        "\u0007"
       ]
      },
      {
       "output_type": "stream",
       "stream": "stdout",
       "text": [
        "WARNING: Volume is correct only if lake depth (terrain raster map) is in\r\n",
        "         meters\r\n",
        "\u0007"
       ]
      },
      {
       "output_type": "stream",
       "stream": "stdout",
       "text": [
        "WARNING: Volume is correct only if lake depth (terrain raster map) is in\r\n",
        "         meters\r\n",
        "\u0007"
       ]
      },
      {
       "output_type": "stream",
       "stream": "stdout",
       "text": [
        "WARNING: Volume is correct only if lake depth (terrain raster map) is in\r\n",
        "         meters\r\n",
        "\u0007"
       ]
      },
      {
       "output_type": "stream",
       "stream": "stdout",
       "text": [
        "WARNING: Volume is correct only if lake depth (terrain raster map) is in\r\n",
        "         meters\r\n",
        "\u0007"
       ]
      },
      {
       "output_type": "stream",
       "stream": "stdout",
       "text": [
        "WARNING: Volume is correct only if lake depth (terrain raster map) is in\r\n",
        "         meters\r\n",
        "\u0007"
       ]
      },
      {
       "output_type": "stream",
       "stream": "stdout",
       "text": [
        "WARNING: Volume is correct only if lake depth (terrain raster map) is in\r\n",
        "         meters\r\n",
        "\u0007"
       ]
      },
      {
       "output_type": "stream",
       "stream": "stdout",
       "text": [
        "WARNING: Volume is correct only if lake depth (terrain raster map) is in\r\n",
        "         meters\r\n",
        "\u0007"
       ]
      },
      {
       "output_type": "stream",
       "stream": "stdout",
       "text": [
        "WARNING: Volume is correct only if lake depth (terrain raster map) is in\r\n",
        "         meters\r\n",
        "\u0007"
       ]
      },
      {
       "output_type": "stream",
       "stream": "stdout",
       "text": [
        "WARNING: Volume is correct only if lake depth (terrain raster map) is in\r\n",
        "         meters\r\n",
        "\u0007"
       ]
      },
      {
       "output_type": "stream",
       "stream": "stdout",
       "text": [
        "WARNING: Volume is correct only if lake depth (terrain raster map) is in\r\n",
        "         meters\r\n",
        "\u0007"
       ]
      },
      {
       "output_type": "stream",
       "stream": "stdout",
       "text": [
        "WARNING: Volume is correct only if lake depth (terrain raster map) is in\r\n",
        "         meters\r\n",
        "\u0007"
       ]
      },
      {
       "output_type": "stream",
       "stream": "stdout",
       "text": [
        "WARNING: Volume is correct only if lake depth (terrain raster map) is in\r\n",
        "         meters\r\n",
        "\u0007"
       ]
      },
      {
       "output_type": "stream",
       "stream": "stdout",
       "text": [
        "WARNING: Volume is correct only if lake depth (terrain raster map) is in\r\n",
        "         meters\r\n",
        "\u0007"
       ]
      },
      {
       "output_type": "stream",
       "stream": "stdout",
       "text": [
        "WARNING: Volume is correct only if lake depth (terrain raster map) is in\r\n",
        "         meters\r\n",
        "\u0007"
       ]
      },
      {
       "output_type": "stream",
       "stream": "stdout",
       "text": [
        "WARNING: Volume is correct only if lake depth (terrain raster map) is in\r\n",
        "         meters\r\n",
        "\u0007"
       ]
      },
      {
       "output_type": "stream",
       "stream": "stdout",
       "text": [
        "WARNING: Volume is correct only if lake depth (terrain raster map) is in\r\n",
        "         meters\r\n",
        "\u0007"
       ]
      },
      {
       "output_type": "stream",
       "stream": "stdout",
       "text": [
        "WARNING: Volume is correct only if lake depth (terrain raster map) is in\r\n",
        "         meters\r\n",
        "\u0007"
       ]
      },
      {
       "output_type": "stream",
       "stream": "stdout",
       "text": [
        "WARNING: Volume is correct only if lake depth (terrain raster map) is in\r\n",
        "         meters\r\n",
        "\u0007"
       ]
      },
      {
       "output_type": "stream",
       "stream": "stdout",
       "text": [
        "WARNING: Volume is correct only if lake depth (terrain raster map) is in\r\n",
        "         meters\r\n",
        "\u0007"
       ]
      },
      {
       "output_type": "stream",
       "stream": "stdout",
       "text": [
        "WARNING: Volume is correct only if lake depth (terrain raster map) is in\r\n",
        "         meters\r\n",
        "\u0007"
       ]
      },
      {
       "output_type": "stream",
       "stream": "stdout",
       "text": [
        "WARNING: Volume is correct only if lake depth (terrain raster map) is in\r\n",
        "         meters\r\n",
        "\u0007"
       ]
      },
      {
       "output_type": "stream",
       "stream": "stdout",
       "text": [
        "WARNING: Volume is correct only if lake depth (terrain raster map) is in\r\n",
        "         meters\r\n",
        "\u0007"
       ]
      },
      {
       "output_type": "stream",
       "stream": "stdout",
       "text": [
        "WARNING: Volume is correct only if lake depth (terrain raster map) is in\r\n",
        "         meters\r\n",
        "\u0007"
       ]
      },
      {
       "output_type": "stream",
       "stream": "stdout",
       "text": [
        "WARNING: Volume is correct only if lake depth (terrain raster map) is in\r\n",
        "         meters\r\n",
        "\u0007"
       ]
      },
      {
       "output_type": "stream",
       "stream": "stdout",
       "text": [
        "WARNING: Volume is correct only if lake depth (terrain raster map) is in\r\n",
        "         meters\r\n",
        "\u0007"
       ]
      },
      {
       "output_type": "stream",
       "stream": "stdout",
       "text": [
        "WARNING: Volume is correct only if lake depth (terrain raster map) is in\r\n",
        "         meters\r\n",
        "\u0007"
       ]
      },
      {
       "output_type": "stream",
       "stream": "stdout",
       "text": [
        "WARNING: Volume is correct only if lake depth (terrain raster map) is in\r\n",
        "         meters\r\n",
        "\u0007"
       ]
      },
      {
       "output_type": "stream",
       "stream": "stdout",
       "text": [
        "WARNING: Volume is correct only if lake depth (terrain raster map) is in\r\n",
        "         meters\r\n",
        "\u0007"
       ]
      },
      {
       "output_type": "stream",
       "stream": "stdout",
       "text": [
        "WARNING: Volume is correct only if lake depth (terrain raster map) is in\r\n",
        "         meters\r\n",
        "\u0007"
       ]
      },
      {
       "output_type": "stream",
       "stream": "stdout",
       "text": [
        "WARNING: Volume is correct only if lake depth (terrain raster map) is in\r\n",
        "         meters\r\n",
        "\u0007"
       ]
      },
      {
       "output_type": "stream",
       "stream": "stdout",
       "text": [
        "WARNING: Volume is correct only if lake depth (terrain raster map) is in\r\n",
        "         meters\r\n",
        "\u0007"
       ]
      },
      {
       "output_type": "stream",
       "stream": "stdout",
       "text": [
        "WARNING: Volume is correct only if lake depth (terrain raster map) is in\r\n",
        "         meters\r\n",
        "\u0007"
       ]
      },
      {
       "output_type": "stream",
       "stream": "stdout",
       "text": [
        "WARNING: Volume is correct only if lake depth (terrain raster map) is in\r\n",
        "         meters\r\n",
        "\u0007"
       ]
      },
      {
       "output_type": "stream",
       "stream": "stdout",
       "text": [
        "WARNING: Volume is correct only if lake depth (terrain raster map) is in\r\n",
        "         meters\r\n",
        "\u0007"
       ]
      },
      {
       "output_type": "stream",
       "stream": "stdout",
       "text": [
        "WARNING: Volume is correct only if lake depth (terrain raster map) is in\r\n",
        "         meters\r\n",
        "\u0007"
       ]
      },
      {
       "output_type": "stream",
       "stream": "stdout",
       "text": [
        "WARNING: Volume is correct only if lake depth (terrain raster map) is in\r\n",
        "         meters\r\n",
        "\u0007"
       ]
      },
      {
       "output_type": "stream",
       "stream": "stdout",
       "text": [
        "WARNING: Volume is correct only if lake depth (terrain raster map) is in\r\n",
        "         meters\r\n",
        "\u0007"
       ]
      },
      {
       "output_type": "stream",
       "stream": "stdout",
       "text": [
        "WARNING: Volume is correct only if lake depth (terrain raster map) is in\r\n",
        "         meters\r\n",
        "\u0007"
       ]
      },
      {
       "output_type": "stream",
       "stream": "stdout",
       "text": [
        "WARNING: Volume is correct only if lake depth (terrain raster map) is in\r\n",
        "         meters\r\n",
        "\u0007"
       ]
      },
      {
       "output_type": "stream",
       "stream": "stdout",
       "text": [
        "WARNING: Volume is correct only if lake depth (terrain raster map) is in\r\n",
        "         meters\r\n",
        "\u0007"
       ]
      },
      {
       "output_type": "stream",
       "stream": "stdout",
       "text": [
        "WARNING: Volume is correct only if lake depth (terrain raster map) is in\r\n",
        "         meters\r\n",
        "\u0007"
       ]
      },
      {
       "output_type": "stream",
       "stream": "stdout",
       "text": [
        "WARNING: Volume is correct only if lake depth (terrain raster map) is in\r\n",
        "         meters\r\n",
        "\u0007"
       ]
      },
      {
       "output_type": "stream",
       "stream": "stdout",
       "text": [
        "WARNING: Volume is correct only if lake depth (terrain raster map) is in\r\n",
        "         meters\r\n",
        "\u0007"
       ]
      },
      {
       "output_type": "stream",
       "stream": "stdout",
       "text": [
        "WARNING: Volume is correct only if lake depth (terrain raster map) is in\r\n",
        "         meters\r\n",
        "\u0007"
       ]
      },
      {
       "output_type": "stream",
       "stream": "stdout",
       "text": [
        "WARNING: Volume is correct only if lake depth (terrain raster map) is in\r\n",
        "         meters\r\n",
        "\u0007"
       ]
      },
      {
       "output_type": "stream",
       "stream": "stdout",
       "text": [
        "WARNING: Volume is correct only if lake depth (terrain raster map) is in\r\n",
        "         meters\r\n",
        "\u0007"
       ]
      },
      {
       "output_type": "stream",
       "stream": "stdout",
       "text": [
        "WARNING: Volume is correct only if lake depth (terrain raster map) is in\r\n",
        "         meters\r\n",
        "\u0007"
       ]
      },
      {
       "output_type": "stream",
       "stream": "stdout",
       "text": [
        "WARNING: Volume is correct only if lake depth (terrain raster map) is in\r\n",
        "         meters\r\n",
        "\u0007"
       ]
      },
      {
       "output_type": "stream",
       "stream": "stdout",
       "text": [
        "WARNING: Volume is correct only if lake depth (terrain raster map) is in\r\n",
        "         meters\r\n",
        "\u0007"
       ]
      },
      {
       "output_type": "stream",
       "stream": "stdout",
       "text": [
        "WARNING: Volume is correct only if lake depth (terrain raster map) is in\r\n",
        "         meters\r\n",
        "\u0007"
       ]
      },
      {
       "output_type": "stream",
       "stream": "stdout",
       "text": [
        "WARNING: Volume is correct only if lake depth (terrain raster map) is in\r\n",
        "         meters\r\n",
        "\u0007"
       ]
      },
      {
       "output_type": "stream",
       "stream": "stdout",
       "text": [
        "WARNING: Volume is correct only if lake depth (terrain raster map) is in\r\n",
        "         meters\r\n",
        "\u0007"
       ]
      },
      {
       "output_type": "stream",
       "stream": "stdout",
       "text": [
        "WARNING: Volume is correct only if lake depth (terrain raster map) is in\r\n",
        "         meters\r\n",
        "\u0007"
       ]
      },
      {
       "output_type": "stream",
       "stream": "stdout",
       "text": [
        "WARNING: Volume is correct only if lake depth (terrain raster map) is in\r\n",
        "         meters\r\n",
        "\u0007"
       ]
      },
      {
       "output_type": "stream",
       "stream": "stdout",
       "text": [
        "WARNING: Volume is correct only if lake depth (terrain raster map) is in\r\n",
        "         meters\r\n",
        "\u0007"
       ]
      },
      {
       "output_type": "stream",
       "stream": "stdout",
       "text": [
        "WARNING: Volume is correct only if lake depth (terrain raster map) is in\r\n",
        "         meters\r\n",
        "\u0007"
       ]
      },
      {
       "output_type": "stream",
       "stream": "stdout",
       "text": [
        "WARNING: Volume is correct only if lake depth (terrain raster map) is in\r\n",
        "         meters\r\n",
        "\u0007"
       ]
      },
      {
       "output_type": "stream",
       "stream": "stdout",
       "text": [
        "WARNING: Volume is correct only if lake depth (terrain raster map) is in\r\n",
        "         meters\r\n",
        "\u0007"
       ]
      }
     ],
     "prompt_number": 9
    },
    {
     "cell_type": "code",
     "collapsed": false,
     "input": [
      "figure(figsize=(8,6))\n",
      "plot(volume,depth,label=\"Volume\")\n",
      "legend()\n",
      "twiny()\n",
      "plot(area,depth,color=\"g\",label=\"Area\")\n",
      "legend()"
     ],
     "language": "python",
     "metadata": {},
     "outputs": [
      {
       "metadata": {},
       "output_type": "pyout",
       "prompt_number": 10,
       "text": [
        "<matplotlib.legend.Legend at 0x1085722d0>"
       ]
      },
      {
       "metadata": {},
       "output_type": "display_data",
       "png": "[encoded data removed]",
       "text": [
        "<matplotlib.figure.Figure at 0x10838a7d0>"
       ]
      }
     ],
     "prompt_number": 10
    },
    {
     "cell_type": "code",
     "collapsed": false,
     "input": [
      "with open('depthcurve_dam.csv', 'w') as csvfile:\n",
      "    spamwriter = csv.writer(csvfile, delimiter=',', quotechar='|', quoting=csv.QUOTE_MINIMAL)\n",
      "    for i in range(0,184):\n",
      "        spamwriter.writerow([depth[i],volume[i],area[i]]) "
     ],
     "language": "python",
     "metadata": {},
     "outputs": [],
     "prompt_number": 11
    },
    {
     "cell_type": "code",
     "collapsed": false,
     "input": [
      "len(np.arange(72.05,81.2,.05))"
     ],
     "language": "python",
     "metadata": {},
     "outputs": [
      {
       "metadata": {},
       "output_type": "pyout",
       "prompt_number": 130,
       "text": [
        "184"
       ]
      }
     ],
     "prompt_number": 130
    },
    {
     "cell_type": "code",
     "collapsed": false,
     "input": [],
     "language": "python",
     "metadata": {},
     "outputs": []
    }
   ],
   "metadata": {}
  }
 ]
}